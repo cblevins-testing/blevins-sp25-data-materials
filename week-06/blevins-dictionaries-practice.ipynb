{
 "cells": [
  {
   "cell_type": "markdown",
   "id": "32aabdc4-d215-446f-b262-662132e50711",
   "metadata": {},
   "source": [
    "Create a dictionary"
   ]
  },
  {
   "cell_type": "code",
   "execution_count": 3,
   "id": "887a4f81-ca17-4a72-a1c3-f3819bfd7184",
   "metadata": {},
   "outputs": [
    {
     "name": "stdout",
     "output_type": "stream",
     "text": [
      "{'Patrick Murphy': 45, 'Mary Kelly': 23, 'Thomas Williams': 16, 'Elizabeth Smith': 34}\n"
     ]
    }
   ],
   "source": [
    "# Create a dictionary mapping names to ages\n",
    "ages_dict = {\n",
    "    \"Patrick Murphy\": 45,\n",
    "    \"Mary Kelly\": 23,\n",
    "    \"Thomas Williams\": 16,\n",
    "    \"Elizabeth Smith\": 34\n",
    "}\n",
    "\n",
    "# Print the entire dictionary\n",
    "print(ages_dict)"
   ]
  },
  {
   "cell_type": "markdown",
   "id": "ee3e46e1-2fe8-4355-b67a-6fcf35cf0cfb",
   "metadata": {},
   "source": [
    "Accessing items"
   ]
  },
  {
   "cell_type": "code",
   "execution_count": 6,
   "id": "69b12c01-f232-4e88-8808-28bd1f915a95",
   "metadata": {},
   "outputs": [
    {
     "name": "stdout",
     "output_type": "stream",
     "text": [
      "Patrick Murphy is 45 years old.\n"
     ]
    }
   ],
   "source": [
    "# Get Patrick's age using his name as the key\n",
    "patricks_age = ages_dict[\"Patrick Murphy\"]\n",
    "print(f\"Patrick Murphy is {patricks_age} years old.\")\n"
   ]
  },
  {
   "cell_type": "markdown",
   "id": "9b529b82-5340-4600-a1d7-3c102b28774e",
   "metadata": {},
   "source": [
    "Creating a dictionary"
   ]
  },
  {
   "cell_type": "code",
   "execution_count": 9,
   "id": "7e5e5fd7-6313-41a4-87be-15bc29d78a5c",
   "metadata": {},
   "outputs": [
    {
     "name": "stdout",
     "output_type": "stream",
     "text": [
      "{'Taylor Swift': 35, 'Olivia Rodrigo': 22, 'Tom Hanks': 68, 'Meryl Streep': 75}\n",
      "Olivia Rodrigo's age: 22\n"
     ]
    }
   ],
   "source": [
    "# Create the celebrity_ages dictionary\n",
    "celebrity_ages = {\n",
    "    \"Taylor Swift\": 35,\n",
    "    \"Olivia Rodrigo\": 22,\n",
    "    \"Tom Hanks\": 68,\n",
    "    \"Meryl Streep\": 75\n",
    "}\n",
    "\n",
    "# Print the entire dictionary\n",
    "print(celebrity_ages)\n",
    "\n",
    "# Print Zendaya's age\n",
    "print(f\"Olivia Rodrigo's age: {celebrity_ages['Olivia Rodrigo']}\")\n"
   ]
  },
  {
   "cell_type": "code",
   "execution_count": 11,
   "id": "5df9be95-6218-4bba-a270-c11239ab39ba",
   "metadata": {},
   "outputs": [
    {
     "name": "stdout",
     "output_type": "stream",
     "text": [
      "{'Patrick Murphy': 45, 'Mary Kelly': 23, 'Thomas Williams': 16, 'Elizabeth Smith': 34, 'Michael Sullivan': 64}\n"
     ]
    }
   ],
   "source": [
    "# Add a new person to our ages dictionary\n",
    "ages_dict[\"Michael Sullivan\"] = 64\n",
    "print(ages_dict)\n"
   ]
  },
  {
   "cell_type": "code",
   "execution_count": 13,
   "id": "ced45201-baf9-40bc-8d5b-36354da4ec65",
   "metadata": {},
   "outputs": [
    {
     "name": "stdout",
     "output_type": "stream",
     "text": [
      "Updated age for Thomas: 17\n"
     ]
    }
   ],
   "source": [
    "# Change someone's age\n",
    "ages_dict[\"Thomas Williams\"] = 17  # Thomas just had a birthday!\n",
    "print(f\"Updated age for Thomas: {ages_dict['Thomas Williams']}\")\n"
   ]
  },
  {
   "cell_type": "code",
   "execution_count": 15,
   "id": "bfac8d04-7e3c-4e23-897c-3c428cb2f076",
   "metadata": {},
   "outputs": [],
   "source": [
    "ages_dict[\"David Lynch\"] = 78"
   ]
  },
  {
   "cell_type": "code",
   "execution_count": 17,
   "id": "5e65db3a-decc-48af-bf9b-1c956fbdb2fe",
   "metadata": {},
   "outputs": [
    {
     "name": "stdout",
     "output_type": "stream",
     "text": [
      "{'Patrick Murphy': 45, 'Mary Kelly': 23, 'Thomas Williams': 17, 'Elizabeth Smith': 34, 'Michael Sullivan': 64, 'David Lynch': 78}\n"
     ]
    }
   ],
   "source": [
    "print(ages_dict)"
   ]
  },
  {
   "cell_type": "code",
   "execution_count": 19,
   "id": "515eb58c-cd46-42dd-aeff-48982f344ec3",
   "metadata": {},
   "outputs": [
    {
     "name": "stdout",
     "output_type": "stream",
     "text": [
      "Patrick Murphy is 45 years old.\n",
      "Mary Kelly is 23 years old.\n",
      "Thomas Williams is 17 years old.\n",
      "Elizabeth Smith is 34 years old.\n",
      "Michael Sullivan is 64 years old.\n",
      "David Lynch is 78 years old.\n",
      "Patrick Murphy is 45 years old.\n",
      "Mary Kelly is 23 years old.\n",
      "Thomas Williams is 17 years old.\n",
      "Elizabeth Smith is 34 years old.\n",
      "Michael Sullivan is 64 years old.\n",
      "David Lynch is 78 years old.\n"
     ]
    }
   ],
   "source": [
    "# Loop through all names and ages\n",
    "for name in ages_dict:\n",
    "    print(f\"{name} is {ages_dict[name]} years old.\")\n",
    "\n",
    "# A more elegant way using the .items() method\n",
    "for name, age in ages_dict.items():\n",
    "    print(f\"{name} is {age} years old.\")\n"
   ]
  },
  {
   "cell_type": "code",
   "execution_count": 21,
   "id": "caf1317f-c7ce-4856-899a-63ba0bf4ab75",
   "metadata": {},
   "outputs": [
    {
     "name": "stdout",
     "output_type": "stream",
     "text": [
      "Patrick Murphy is 45 years old.\n",
      "Elizabeth Smith is 34 years old.\n",
      "Michael Sullivan is 64 years old.\n",
      "David Lynch is 78 years old.\n"
     ]
    }
   ],
   "source": [
    "# Find all people over 30\n",
    "for name, age in ages_dict.items():\n",
    "    if age > 30:\n",
    "        print(f\"{name} is {age} years old.\")\n"
   ]
  },
  {
   "cell_type": "code",
   "execution_count": 23,
   "id": "358af44d-d642-4e01-a50e-b904b3c925dd",
   "metadata": {},
   "outputs": [
    {
     "name": "stdout",
     "output_type": "stream",
     "text": [
      "Taylor Swift is a Millenial\n",
      "Olivia Rodrigo is a Zoomer\n",
      "Tom Hanks is A Boomer\n",
      "Meryl Streep is A Boomer\n"
     ]
    }
   ],
   "source": [
    "for name, age in celebrity_ages.items():\n",
    "    if age > 29 and age <= 44:\n",
    "        print(f\"{name} is a Millenial\")\n",
    "    elif age < 29:\n",
    "        print(f\"{name} is a Zoomer\")\n",
    "    elif age > 61:\n",
    "        print(f\"{name} is A Boomer\")\n",
    "    "
   ]
  },
  {
   "cell_type": "code",
   "execution_count": 25,
   "id": "e2e08acd-ee57-4142-93b6-33d2fa8ad190",
   "metadata": {},
   "outputs": [],
   "source": [
    "# Create one dictionary with all information about each person\n",
    "census_data = {\n",
    "    \"Patrick Murphy\": {\n",
    "        \"age\": 45,\n",
    "        \"birth_place\": \"Ireland\",\n",
    "        \"occupation\": \"farmer\"\n",
    "    },\n",
    "    \"Mary Kelly\": {\n",
    "        \"age\": 23,\n",
    "        \"birth_place\": \"Ireland\",\n",
    "        \"occupation\": \"servant\"\n",
    "    },\n",
    "    \"Thomas Williams\": {\n",
    "        \"age\": 17,\n",
    "        \"birth_place\": \"Wales\",\n",
    "        \"occupation\": \"laborer\"\n",
    "    },\n",
    "    \"Elizabeth Smith\": {\n",
    "    \"age\": 34,\n",
    "    \"birth_place\": \"England\",\n",
    "    \"occupation\": \"servant\"\n",
    "    }\n",
    "}\n"
   ]
  },
  {
   "cell_type": "code",
   "execution_count": 27,
   "id": "5d5df8f8-0a7e-4bad-95de-8c9013803f01",
   "metadata": {},
   "outputs": [
    {
     "name": "stdout",
     "output_type": "stream",
     "text": [
      "Patrick Murphy\n",
      "{'age': 45, 'birth_place': 'Ireland', 'occupation': 'farmer'}\n",
      "Mary Kelly\n",
      "{'age': 23, 'birth_place': 'Ireland', 'occupation': 'servant'}\n",
      "Thomas Williams\n",
      "{'age': 17, 'birth_place': 'Wales', 'occupation': 'laborer'}\n",
      "Elizabeth Smith\n",
      "{'age': 34, 'birth_place': 'England', 'occupation': 'servant'}\n"
     ]
    }
   ],
   "source": [
    "for name, info in census_data.items():\n",
    "    print(name)\n",
    "    print(info)"
   ]
  },
  {
   "cell_type": "code",
   "execution_count": 55,
   "id": "80c3dbc8-6dae-4d5d-9686-df360848dbc1",
   "metadata": {},
   "outputs": [
    {
     "name": "stdout",
     "output_type": "stream",
     "text": [
      "{'age': 45, 'birth_place': 'Ireland', 'occupation': 'farmer'}\n",
      "farmer\n"
     ]
    }
   ],
   "source": [
    "# Access data from our nested dictionary\n",
    "print(census_data[\"Patrick Murphy\"])\n",
    "print(census_data[\"Patrick Murphy\"][\"occupation\"])\n"
   ]
  },
  {
   "cell_type": "code",
   "execution_count": 29,
   "id": "2dad6051-e789-49bc-b7db-163b85edfcdd",
   "metadata": {},
   "outputs": [],
   "source": [
    "# Here are our lists of data\n",
    "names = [\"Patrick Murphy\", \"Mary Kelly\", \"Thomas Williams\", \"Elizabeth Smith\", \"Michael Sullivan\",\n",
    "         \"Anna Schmidt\", \"William Johnson\", \"James O'Connor\", \"Bridget Walsh\", \"Robert Campbell\",\n",
    "         \"Catherine Miller\", \"George Thompson\", \"Sean O'Neill\", \"David Jones\", \"Kevin Burke\",\n",
    "         \"Margaret Wilson\", \"Donald Fraser\", \"Eileen Doyle\", \"Frieda Weber\", \"Timothy Ryan\"]\n",
    "\n",
    "ages = [45, 23, 16, 34, 64, 28, 42, 31, 27, 38, 17, 52, 29, 44, 33, 15, 61, 36, 18, 41]\n",
    "\n",
    "birth_places = ['Ireland', 'Ireland', 'New York', 'England', 'Ireland', 'Germany', 'New York',\n",
    "               'Ireland', 'Ireland', 'Scotland', 'Ireland', 'England', 'Ireland', 'Wales',\n",
    "               'Ireland', 'Ireland', 'Scotland', 'Ireland', 'Germany', 'Ireland']\n",
    "\n",
    "occupations = ['farmer', 'servant', 'laborer', 'merchant', 'farmer', 'servant', 'teacher', 'farmer',\n",
    "              'laborer', 'merchant', 'servant', 'farmer', 'laborer', 'blacksmith', 'carpenter',\n",
    "              'servant', 'farmer', 'weaver', 'servant', 'carpenter']\n"
   ]
  },
  {
   "cell_type": "code",
   "execution_count": 31,
   "id": "67893ded-fde3-44a9-8ef1-fa30b3f0ea97",
   "metadata": {},
   "outputs": [],
   "source": [
    "# Start with an empty dictionary\n",
    "auto_census = {}\n",
    "\n",
    "# Loop through the lists to create our nested dictionary\n",
    "for i in range(len(names)):\n",
    "    # Extract the data for this person and temporarily put the data into a series of variables\n",
    "    name = names[i]\n",
    "    age = ages[i]\n",
    "    birth_place = birth_places[i]\n",
    "    occupation = occupations[i]\n",
    "\n",
    "    # Create the nested dictionary for this person\n",
    "    auto_census[name] = {\n",
    "        \"age\": age,\n",
    "        \"birth_place\": birth_place,\n",
    "        \"occupation\": occupation\n",
    "    }\n"
   ]
  },
  {
   "cell_type": "code",
   "execution_count": 33,
   "id": "39fe7a55-65fa-4004-8d9b-d667f13d9d1a",
   "metadata": {},
   "outputs": [
    {
     "data": {
      "text/plain": [
       "{'Patrick Murphy': {'age': 45,\n",
       "  'birth_place': 'Ireland',\n",
       "  'occupation': 'farmer'},\n",
       " 'Mary Kelly': {'age': 23, 'birth_place': 'Ireland', 'occupation': 'servant'},\n",
       " 'Thomas Williams': {'age': 16,\n",
       "  'birth_place': 'New York',\n",
       "  'occupation': 'laborer'},\n",
       " 'Elizabeth Smith': {'age': 34,\n",
       "  'birth_place': 'England',\n",
       "  'occupation': 'merchant'},\n",
       " 'Michael Sullivan': {'age': 64,\n",
       "  'birth_place': 'Ireland',\n",
       "  'occupation': 'farmer'},\n",
       " 'Anna Schmidt': {'age': 28,\n",
       "  'birth_place': 'Germany',\n",
       "  'occupation': 'servant'},\n",
       " 'William Johnson': {'age': 42,\n",
       "  'birth_place': 'New York',\n",
       "  'occupation': 'teacher'},\n",
       " \"James O'Connor\": {'age': 31,\n",
       "  'birth_place': 'Ireland',\n",
       "  'occupation': 'farmer'},\n",
       " 'Bridget Walsh': {'age': 27,\n",
       "  'birth_place': 'Ireland',\n",
       "  'occupation': 'laborer'},\n",
       " 'Robert Campbell': {'age': 38,\n",
       "  'birth_place': 'Scotland',\n",
       "  'occupation': 'merchant'},\n",
       " 'Catherine Miller': {'age': 17,\n",
       "  'birth_place': 'Ireland',\n",
       "  'occupation': 'servant'},\n",
       " 'George Thompson': {'age': 52,\n",
       "  'birth_place': 'England',\n",
       "  'occupation': 'farmer'},\n",
       " \"Sean O'Neill\": {'age': 29,\n",
       "  'birth_place': 'Ireland',\n",
       "  'occupation': 'laborer'},\n",
       " 'David Jones': {'age': 44,\n",
       "  'birth_place': 'Wales',\n",
       "  'occupation': 'blacksmith'},\n",
       " 'Kevin Burke': {'age': 33,\n",
       "  'birth_place': 'Ireland',\n",
       "  'occupation': 'carpenter'},\n",
       " 'Margaret Wilson': {'age': 15,\n",
       "  'birth_place': 'Ireland',\n",
       "  'occupation': 'servant'},\n",
       " 'Donald Fraser': {'age': 61,\n",
       "  'birth_place': 'Scotland',\n",
       "  'occupation': 'farmer'},\n",
       " 'Eileen Doyle': {'age': 36, 'birth_place': 'Ireland', 'occupation': 'weaver'},\n",
       " 'Frieda Weber': {'age': 18,\n",
       "  'birth_place': 'Germany',\n",
       "  'occupation': 'servant'},\n",
       " 'Timothy Ryan': {'age': 41,\n",
       "  'birth_place': 'Ireland',\n",
       "  'occupation': 'carpenter'}}"
      ]
     },
     "execution_count": 33,
     "metadata": {},
     "output_type": "execute_result"
    }
   ],
   "source": [
    "auto_census"
   ]
  },
  {
   "cell_type": "code",
   "execution_count": null,
   "id": "2a994a1a-960f-4834-9892-a2e0dcfe48ea",
   "metadata": {},
   "outputs": [],
   "source": []
  }
 ],
 "metadata": {
  "kernelspec": {
   "display_name": "Python [conda env:base]",
   "language": "python",
   "name": "conda-base-py"
  },
  "language_info": {
   "codemirror_mode": {
    "name": "ipython",
    "version": 3
   },
   "file_extension": ".py",
   "mimetype": "text/x-python",
   "name": "python",
   "nbconvert_exporter": "python",
   "pygments_lexer": "ipython3",
   "version": "3.9.7"
  }
 },
 "nbformat": 4,
 "nbformat_minor": 5
}
