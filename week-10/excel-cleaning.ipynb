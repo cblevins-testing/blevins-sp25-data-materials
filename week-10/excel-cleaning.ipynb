{
 "cells": [
  {
   "cell_type": "code",
   "execution_count": 15,
   "id": "47acdd52-60bf-4582-933f-a4a0683df23f",
   "metadata": {},
   "outputs": [
    {
     "name": "stdout",
     "output_type": "stream",
     "text": [
      "(6, 5)\n",
      "(5, 4)\n",
      "            University  total_students  undergrad_percent  grad_percent  \\\n",
      "0  Stanford University           16937               65.2          34.8   \n",
      "1   harvard university           20050               62.8          37.2   \n",
      "2                MIT             11376               54.5          45.5   \n",
      "3                 Yale           12060               58.3          41.7   \n",
      "4   harvard university           20050               62.8          37.2   \n",
      "\n",
      "   International students  \n",
      "0                    3984  \n",
      "1                    5726  \n",
      "2                    3787  \n",
      "3                    2841  \n",
      "4                    5726  \n",
      "            university  undergrad_tuition  grad_tuition  Average_financial_aid\n",
      "0  Stanford University              56169         54315                  52030\n",
      "1   harvard university              54002         51654                  53604\n",
      "2                MIT                55878         58240                  48264\n",
      "3                 Yale              59950         45700                  55879\n",
      "4          UC Berkeley              14226         14226                  23736\n"
     ]
    }
   ],
   "source": [
    "import pandas as pd\n",
    "\n",
    "# Load both sheets\n",
    "enrollment_df = pd.read_excel('university_data.xlsx', sheet_name='Enrollment')\n",
    "tuition_df = pd.read_excel('university_data.xlsx', sheet_name='Tuition')\n",
    "\n",
    "# View basic information\n",
    "print(enrollment_df.shape)  # Check number of rows and columns\n",
    "print(tuition_df.shape)\n",
    "\n",
    "# Preview the data\n",
    "print(enrollment_df.head())\n",
    "print(tuition_df.head())\n"
   ]
  },
  {
   "cell_type": "code",
   "execution_count": 17,
   "id": "90616edf-4f38-42f2-a61f-f96f7fa63ab8",
   "metadata": {},
   "outputs": [
    {
     "name": "stdout",
     "output_type": "stream",
     "text": [
      "Index(['University', 'total_students', 'undergrad_percent', 'grad_percent',\n",
      "       'International students'],\n",
      "      dtype='object')\n",
      "Index(['university', 'undergrad_tuition', 'grad_tuition',\n",
      "       'Average_financial_aid'],\n",
      "      dtype='object')\n",
      "University                 object\n",
      "total_students              int64\n",
      "undergrad_percent         float64\n",
      "grad_percent              float64\n",
      "International students      int64\n",
      "dtype: object\n",
      "university               object\n",
      "undergrad_tuition         int64\n",
      "grad_tuition              int64\n",
      "Average_financial_aid     int64\n",
      "dtype: object\n"
     ]
    }
   ],
   "source": [
    "# Examine column names\n",
    "print(enrollment_df.columns)\n",
    "print(tuition_df.columns)\n",
    "\n",
    "# Check data types\n",
    "print(enrollment_df.dtypes)\n",
    "print(tuition_df.dtypes)\n"
   ]
  },
  {
   "cell_type": "code",
   "execution_count": 19,
   "id": "9f70a72e-7f0d-43a0-aea0-4a983f5e2de9",
   "metadata": {},
   "outputs": [
    {
     "name": "stdout",
     "output_type": "stream",
     "text": [
      "0    False\n",
      "1    False\n",
      "2    False\n",
      "3    False\n",
      "4     True\n",
      "5    False\n",
      "dtype: bool\n",
      "Duplicate rows in enrollment data:\n",
      "           University  total_students  undergrad_percent  grad_percent  \\\n",
      "4  harvard university           20050               62.8          37.2   \n",
      "\n",
      "   International students  \n",
      "4                    5726  \n",
      "0    False\n",
      "1    False\n",
      "2    False\n",
      "3    False\n",
      "4    False\n",
      "dtype: bool\n",
      "Duplicate rows in tuition data:\n",
      "Empty DataFrame\n",
      "Columns: [university, undergrad_tuition, grad_tuition, Average_financial_aid]\n",
      "Index: []\n"
     ]
    }
   ],
   "source": [
    "# Check for duplicate rows in the enrollment dataframe\n",
    "print(enrollment_df.duplicated())\n",
    "print(\"Duplicate rows in enrollment data:\")\n",
    "print(enrollment_df[enrollment_df.duplicated()])\n",
    "\n",
    "\n",
    "# Check for duplicate rows in the tuition dataframe\n",
    "print(tuition_df.duplicated())\n",
    "print(\"Duplicate rows in tuition data:\")\n",
    "print(tuition_df[tuition_df.duplicated()])"
   ]
  },
  {
   "cell_type": "code",
   "execution_count": 21,
   "id": "439b4370-6f40-423d-8807-daeeef08e288",
   "metadata": {},
   "outputs": [
    {
     "name": "stdout",
     "output_type": "stream",
     "text": [
      "Column: University\n",
      "['Stanford University' 'harvard university' 'MIT  ' '  Yale' 'UC Berkeley']\n",
      "---\n",
      "Column: total_students\n",
      "[16937 20050 11376 12060 42501]\n",
      "---\n",
      "Column: undergrad_percent\n",
      "[65.2 62.8 54.5 58.3 71.5]\n",
      "---\n",
      "Column: grad_percent\n",
      "[34.8 37.2 45.5 41.7 28.5]\n",
      "---\n",
      "Column: International students\n",
      "[3984 5726 3787 2841 6763]\n",
      "---\n",
      "Column: university\n",
      "['Stanford University' 'harvard university' 'MIT  ' '  Yale' 'UC Berkeley']\n",
      "---\n",
      "Column: undergrad_tuition\n",
      "[56169 54002 55878 59950 14226]\n",
      "---\n",
      "Column: grad_tuition\n",
      "[54315 51654 58240 45700 14226]\n",
      "---\n",
      "Column: Average_financial_aid\n",
      "[52030 53604 48264 55879 23736]\n",
      "---\n"
     ]
    }
   ],
   "source": [
    "# Check unique values in all columns\n",
    "for column in enrollment_df.columns:\n",
    "    print(f\"Column: {column}\")\n",
    "    print(enrollment_df[column].unique())\n",
    "    print(\"---\")\n",
    "\n",
    "for column in tuition_df.columns:\n",
    "    print(f\"Column: {column}\")\n",
    "    print(tuition_df[column].unique())\n",
    "    print(\"---\")\n"
   ]
  },
  {
   "cell_type": "code",
   "execution_count": 23,
   "id": "7d571f6d-5fc9-4c8f-8333-7c165adfdea5",
   "metadata": {},
   "outputs": [
    {
     "name": "stdout",
     "output_type": "stream",
     "text": [
      "Index(['university', 'total_students', 'undergrad_percent', 'grad_percent',\n",
      "       'international_students'],\n",
      "      dtype='object')\n",
      "Index(['university', 'undergradtuition', 'gradtuition', 'averagefinancialaid'], dtype='object')\n"
     ]
    }
   ],
   "source": [
    "# Strip whitespace, standardize case, replace multiple spaces in column names\n",
    "enrollment_df.columns = [col.strip().lower().replace('   ', '_').replace(' ', '_') for col in enrollment_df.columns]\n",
    "tuition_df.columns = [col.strip().lower().replace('_', '').replace(' ', '_') for col in tuition_df.columns]\n",
    "\n",
    "print(enrollment_df.columns)\n",
    "print(tuition_df.columns)\n"
   ]
  },
  {
   "cell_type": "code",
   "execution_count": 25,
   "id": "570bc6c3-100b-414a-bb74-71e0ef7bcde1",
   "metadata": {},
   "outputs": [
    {
     "name": "stdout",
     "output_type": "stream",
     "text": [
      "0    Stanford University\n",
      "1     Harvard University\n",
      "2                    Mit\n",
      "3                   Yale\n",
      "4     Harvard University\n",
      "5            Uc Berkeley\n",
      "Name: university, dtype: object\n",
      "0    Stanford University\n",
      "1     Harvard University\n",
      "2                    Mit\n",
      "3                   Yale\n",
      "4            Uc Berkeley\n",
      "Name: university, dtype: object\n"
     ]
    }
   ],
   "source": [
    "# Strip whitespace and standardize case for univeresity names\n",
    "enrollment_df['university'] = enrollment_df['university'].str.strip().str.title()\n",
    "tuition_df['university'] = tuition_df['university'].str.strip().str.title()\n",
    "\n",
    "# note what happens to UC Berkeley with the title() function...\n",
    "\n",
    "print(enrollment_df['university'])\n",
    "print(tuition_df['university'])\n"
   ]
  },
  {
   "cell_type": "code",
   "execution_count": 27,
   "id": "c4f06ad4-7373-4202-9c0c-544e3438ad13",
   "metadata": {},
   "outputs": [
    {
     "name": "stdout",
     "output_type": "stream",
     "text": [
      "            university  total_students  undergrad_percent  grad_percent  \\\n",
      "0  Stanford University           16937               65.2          34.8   \n",
      "1   Harvard University           20050               62.8          37.2   \n",
      "2                  Mit           11376               54.5          45.5   \n",
      "3                 Yale           12060               58.3          41.7   \n",
      "5          Uc Berkeley           42501               71.5          28.5   \n",
      "\n",
      "   international_students  \n",
      "0                    3984  \n",
      "1                    5726  \n",
      "2                    3787  \n",
      "3                    2841  \n",
      "5                    6763  \n"
     ]
    }
   ],
   "source": [
    "# Remove duplicate rows based on a column\n",
    "enrollment_df = enrollment_df.drop_duplicates(subset=['university'])\n",
    "\n",
    "print(enrollment_df)"
   ]
  },
  {
   "cell_type": "code",
   "execution_count": 29,
   "id": "c0d09b3b-68e1-4812-84fb-edc7cceebf13",
   "metadata": {},
   "outputs": [],
   "source": [
    "# Merge the enrollment and tuition data on the cleaned university name\n",
    "merged_df = pd.merge(\n",
    "    enrollment_df,\n",
    "    tuition_df,\n",
    "    on='university',\n",
    "    how='outer'  # Use outer join to keep all universities from both sheets\n",
    ")\n"
   ]
  },
  {
   "cell_type": "code",
   "execution_count": 31,
   "id": "7305c6a7-64db-4ea1-a13b-1082b3b994dd",
   "metadata": {},
   "outputs": [
    {
     "name": "stdout",
     "output_type": "stream",
     "text": [
      "            university  total_students  undergrad_percent  grad_percent  \\\n",
      "0   Harvard University           20050               62.8          37.2   \n",
      "1                  Mit           11376               54.5          45.5   \n",
      "2  Stanford University           16937               65.2          34.8   \n",
      "3          Uc Berkeley           42501               71.5          28.5   \n",
      "4                 Yale           12060               58.3          41.7   \n",
      "\n",
      "   international_students  undergradtuition  gradtuition  averagefinancialaid  \n",
      "0                    5726             54002        51654                53604  \n",
      "1                    3787             55878        58240                48264  \n",
      "2                    3984             56169        54315                52030  \n",
      "3                    6763             14226        14226                23736  \n",
      "4                    2841             59950        45700                55879  \n"
     ]
    }
   ],
   "source": [
    "print(merged_df)"
   ]
  },
  {
   "cell_type": "code",
   "execution_count": 33,
   "id": "aa25bd0b-fcbd-428a-a63e-d17d237b253c",
   "metadata": {},
   "outputs": [],
   "source": [
    "# Save the data to CSV file\n",
    "merged_df.to_csv('university_data_merged.csv', index=False)"
   ]
  },
  {
   "cell_type": "code",
   "execution_count": null,
   "id": "d891a4a3-638e-455d-a67e-573d2ddb5899",
   "metadata": {},
   "outputs": [],
   "source": []
  }
 ],
 "metadata": {
  "kernelspec": {
   "display_name": "Python [conda env:anaconda3] *",
   "language": "python",
   "name": "conda-env-anaconda3-py"
  },
  "language_info": {
   "codemirror_mode": {
    "name": "ipython",
    "version": 3
   },
   "file_extension": ".py",
   "mimetype": "text/x-python",
   "name": "python",
   "nbconvert_exporter": "python",
   "pygments_lexer": "ipython3",
   "version": "3.12.7"
  }
 },
 "nbformat": 4,
 "nbformat_minor": 5
}
