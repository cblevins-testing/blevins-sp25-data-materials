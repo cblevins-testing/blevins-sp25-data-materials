{
 "cells": [
  {
   "cell_type": "markdown",
   "id": "ee1c934f-b66f-494e-a67e-62206247a3ef",
   "metadata": {},
   "source": []
  },
  {
   "cell_type": "markdown",
   "id": "2ce51b70-5c79-4c76-bf3e-f4e3e6fe3704",
   "metadata": {},
   "source": [
    "Import the pandas library (import pandas as pd)\n"
   ]
  },
  {
   "cell_type": "code",
   "execution_count": 1,
   "id": "4fcd0fb9-6e39-4bbb-ac17-13839d95d781",
   "metadata": {},
   "outputs": [],
   "source": [
    "import pandas as pd"
   ]
  },
  {
   "cell_type": "markdown",
   "id": "906bc79f-7008-44b4-bc96-ee7c8f660983",
   "metadata": {},
   "source": [
    "Read in the contents of the CSV of Colorado census data and assign it to a variable co_df (ie. Colorado dataframe)\n"
   ]
  },
  {
   "cell_type": "code",
   "execution_count": 2,
   "id": "3c9d2bea-1e7e-4f58-a8f3-71668f50259b",
   "metadata": {},
   "outputs": [
    {
     "data": {
      "text/html": [
       "<div>\n",
       "<style scoped>\n",
       "    .dataframe tbody tr th:only-of-type {\n",
       "        vertical-align: middle;\n",
       "    }\n",
       "\n",
       "    .dataframe tbody tr th {\n",
       "        vertical-align: top;\n",
       "    }\n",
       "\n",
       "    .dataframe thead th {\n",
       "        text-align: right;\n",
       "    }\n",
       "</style>\n",
       "<table border=\"1\" class=\"dataframe\">\n",
       "  <thead>\n",
       "    <tr style=\"text-align: right;\">\n",
       "      <th></th>\n",
       "      <th>county</th>\n",
       "      <th>fips</th>\n",
       "      <th>year</th>\n",
       "      <th>population</th>\n",
       "    </tr>\n",
       "  </thead>\n",
       "  <tbody>\n",
       "    <tr>\n",
       "      <th>0</th>\n",
       "      <td>Adams</td>\n",
       "      <td>8001</td>\n",
       "      <td>1900</td>\n",
       "      <td>NaN</td>\n",
       "    </tr>\n",
       "    <tr>\n",
       "      <th>1</th>\n",
       "      <td>Alamosa</td>\n",
       "      <td>8003</td>\n",
       "      <td>1900</td>\n",
       "      <td>NaN</td>\n",
       "    </tr>\n",
       "    <tr>\n",
       "      <th>2</th>\n",
       "      <td>Arapahoe</td>\n",
       "      <td>8005</td>\n",
       "      <td>1900</td>\n",
       "      <td>153017.0</td>\n",
       "    </tr>\n",
       "    <tr>\n",
       "      <th>3</th>\n",
       "      <td>Archuleta</td>\n",
       "      <td>8007</td>\n",
       "      <td>1900</td>\n",
       "      <td>2117.0</td>\n",
       "    </tr>\n",
       "    <tr>\n",
       "      <th>4</th>\n",
       "      <td>Baca</td>\n",
       "      <td>8009</td>\n",
       "      <td>1900</td>\n",
       "      <td>759.0</td>\n",
       "    </tr>\n",
       "    <tr>\n",
       "      <th>...</th>\n",
       "      <td>...</td>\n",
       "      <td>...</td>\n",
       "      <td>...</td>\n",
       "      <td>...</td>\n",
       "    </tr>\n",
       "    <tr>\n",
       "      <th>373</th>\n",
       "      <td>Summit</td>\n",
       "      <td>8117</td>\n",
       "      <td>1950</td>\n",
       "      <td>1135.0</td>\n",
       "    </tr>\n",
       "    <tr>\n",
       "      <th>374</th>\n",
       "      <td>Teller</td>\n",
       "      <td>8119</td>\n",
       "      <td>1950</td>\n",
       "      <td>2754.0</td>\n",
       "    </tr>\n",
       "    <tr>\n",
       "      <th>375</th>\n",
       "      <td>Washington</td>\n",
       "      <td>8121</td>\n",
       "      <td>1950</td>\n",
       "      <td>7520.0</td>\n",
       "    </tr>\n",
       "    <tr>\n",
       "      <th>376</th>\n",
       "      <td>Weld</td>\n",
       "      <td>8123</td>\n",
       "      <td>1950</td>\n",
       "      <td>67504.0</td>\n",
       "    </tr>\n",
       "    <tr>\n",
       "      <th>377</th>\n",
       "      <td>Yuma</td>\n",
       "      <td>8125</td>\n",
       "      <td>1950</td>\n",
       "      <td>10827.0</td>\n",
       "    </tr>\n",
       "  </tbody>\n",
       "</table>\n",
       "<p>378 rows × 4 columns</p>\n",
       "</div>"
      ],
      "text/plain": [
       "         county  fips  year  population\n",
       "0         Adams  8001  1900         NaN\n",
       "1       Alamosa  8003  1900         NaN\n",
       "2      Arapahoe  8005  1900    153017.0\n",
       "3     Archuleta  8007  1900      2117.0\n",
       "4          Baca  8009  1900       759.0\n",
       "..          ...   ...   ...         ...\n",
       "373      Summit  8117  1950      1135.0\n",
       "374      Teller  8119  1950      2754.0\n",
       "375  Washington  8121  1950      7520.0\n",
       "376        Weld  8123  1950     67504.0\n",
       "377        Yuma  8125  1950     10827.0\n",
       "\n",
       "[378 rows x 4 columns]"
      ]
     },
     "execution_count": 2,
     "metadata": {},
     "output_type": "execute_result"
    }
   ],
   "source": [
    "co_df=pd.read_csv('co-census-skinny.csv')\n",
    "co_df"
   ]
  },
  {
   "cell_type": "markdown",
   "id": "bcf74c62-27fd-4180-8c3d-6dbe716d6f5c",
   "metadata": {},
   "source": [
    "Show the first 10 rows of the co_df dataframe\n"
   ]
  },
  {
   "cell_type": "code",
   "execution_count": 3,
   "id": "30bb1949-299e-402c-8ce1-29d246f2b045",
   "metadata": {},
   "outputs": [
    {
     "data": {
      "text/html": [
       "<div>\n",
       "<style scoped>\n",
       "    .dataframe tbody tr th:only-of-type {\n",
       "        vertical-align: middle;\n",
       "    }\n",
       "\n",
       "    .dataframe tbody tr th {\n",
       "        vertical-align: top;\n",
       "    }\n",
       "\n",
       "    .dataframe thead th {\n",
       "        text-align: right;\n",
       "    }\n",
       "</style>\n",
       "<table border=\"1\" class=\"dataframe\">\n",
       "  <thead>\n",
       "    <tr style=\"text-align: right;\">\n",
       "      <th></th>\n",
       "      <th>county</th>\n",
       "      <th>fips</th>\n",
       "      <th>year</th>\n",
       "      <th>population</th>\n",
       "    </tr>\n",
       "  </thead>\n",
       "  <tbody>\n",
       "    <tr>\n",
       "      <th>0</th>\n",
       "      <td>Adams</td>\n",
       "      <td>8001</td>\n",
       "      <td>1900</td>\n",
       "      <td>NaN</td>\n",
       "    </tr>\n",
       "    <tr>\n",
       "      <th>1</th>\n",
       "      <td>Alamosa</td>\n",
       "      <td>8003</td>\n",
       "      <td>1900</td>\n",
       "      <td>NaN</td>\n",
       "    </tr>\n",
       "    <tr>\n",
       "      <th>2</th>\n",
       "      <td>Arapahoe</td>\n",
       "      <td>8005</td>\n",
       "      <td>1900</td>\n",
       "      <td>153017.0</td>\n",
       "    </tr>\n",
       "    <tr>\n",
       "      <th>3</th>\n",
       "      <td>Archuleta</td>\n",
       "      <td>8007</td>\n",
       "      <td>1900</td>\n",
       "      <td>2117.0</td>\n",
       "    </tr>\n",
       "    <tr>\n",
       "      <th>4</th>\n",
       "      <td>Baca</td>\n",
       "      <td>8009</td>\n",
       "      <td>1900</td>\n",
       "      <td>759.0</td>\n",
       "    </tr>\n",
       "    <tr>\n",
       "      <th>5</th>\n",
       "      <td>Bent</td>\n",
       "      <td>8011</td>\n",
       "      <td>1900</td>\n",
       "      <td>3049.0</td>\n",
       "    </tr>\n",
       "    <tr>\n",
       "      <th>6</th>\n",
       "      <td>Boulder</td>\n",
       "      <td>8013</td>\n",
       "      <td>1900</td>\n",
       "      <td>21544.0</td>\n",
       "    </tr>\n",
       "    <tr>\n",
       "      <th>7</th>\n",
       "      <td>Chaffee</td>\n",
       "      <td>8015</td>\n",
       "      <td>1900</td>\n",
       "      <td>7085.0</td>\n",
       "    </tr>\n",
       "    <tr>\n",
       "      <th>8</th>\n",
       "      <td>Cheyenne</td>\n",
       "      <td>8017</td>\n",
       "      <td>1900</td>\n",
       "      <td>501.0</td>\n",
       "    </tr>\n",
       "    <tr>\n",
       "      <th>9</th>\n",
       "      <td>Clear Creek</td>\n",
       "      <td>8019</td>\n",
       "      <td>1900</td>\n",
       "      <td>7082.0</td>\n",
       "    </tr>\n",
       "  </tbody>\n",
       "</table>\n",
       "</div>"
      ],
      "text/plain": [
       "        county  fips  year  population\n",
       "0        Adams  8001  1900         NaN\n",
       "1      Alamosa  8003  1900         NaN\n",
       "2     Arapahoe  8005  1900    153017.0\n",
       "3    Archuleta  8007  1900      2117.0\n",
       "4         Baca  8009  1900       759.0\n",
       "5         Bent  8011  1900      3049.0\n",
       "6      Boulder  8013  1900     21544.0\n",
       "7      Chaffee  8015  1900      7085.0\n",
       "8     Cheyenne  8017  1900       501.0\n",
       "9  Clear Creek  8019  1900      7082.0"
      ]
     },
     "execution_count": 3,
     "metadata": {},
     "output_type": "execute_result"
    }
   ],
   "source": [
    "co_df.head(10)"
   ]
  },
  {
   "cell_type": "markdown",
   "id": "36cda44f-d19b-4240-ac25-a8018d748dfa",
   "metadata": {},
   "source": [
    "Show a random sample of 5 rows from the co_df dataframe\n"
   ]
  },
  {
   "cell_type": "code",
   "execution_count": 4,
   "id": "13216e97-827b-4173-af5c-50a24125ccc5",
   "metadata": {},
   "outputs": [
    {
     "data": {
      "text/html": [
       "<div>\n",
       "<style scoped>\n",
       "    .dataframe tbody tr th:only-of-type {\n",
       "        vertical-align: middle;\n",
       "    }\n",
       "\n",
       "    .dataframe tbody tr th {\n",
       "        vertical-align: top;\n",
       "    }\n",
       "\n",
       "    .dataframe thead th {\n",
       "        text-align: right;\n",
       "    }\n",
       "</style>\n",
       "<table border=\"1\" class=\"dataframe\">\n",
       "  <thead>\n",
       "    <tr style=\"text-align: right;\">\n",
       "      <th></th>\n",
       "      <th>county</th>\n",
       "      <th>fips</th>\n",
       "      <th>year</th>\n",
       "      <th>population</th>\n",
       "    </tr>\n",
       "  </thead>\n",
       "  <tbody>\n",
       "    <tr>\n",
       "      <th>278</th>\n",
       "      <td>Hinsdale</td>\n",
       "      <td>8053</td>\n",
       "      <td>1940</td>\n",
       "      <td>349.0</td>\n",
       "    </tr>\n",
       "    <tr>\n",
       "      <th>100</th>\n",
       "      <td>Logan</td>\n",
       "      <td>8075</td>\n",
       "      <td>1910</td>\n",
       "      <td>9549.0</td>\n",
       "    </tr>\n",
       "    <tr>\n",
       "      <th>9</th>\n",
       "      <td>Clear Creek</td>\n",
       "      <td>8019</td>\n",
       "      <td>1900</td>\n",
       "      <td>7082.0</td>\n",
       "    </tr>\n",
       "    <tr>\n",
       "      <th>59</th>\n",
       "      <td>Teller</td>\n",
       "      <td>8119</td>\n",
       "      <td>1900</td>\n",
       "      <td>29002.0</td>\n",
       "    </tr>\n",
       "    <tr>\n",
       "      <th>193</th>\n",
       "      <td>Baca</td>\n",
       "      <td>8009</td>\n",
       "      <td>1930</td>\n",
       "      <td>10570.0</td>\n",
       "    </tr>\n",
       "  </tbody>\n",
       "</table>\n",
       "</div>"
      ],
      "text/plain": [
       "          county  fips  year  population\n",
       "278     Hinsdale  8053  1940       349.0\n",
       "100        Logan  8075  1910      9549.0\n",
       "9    Clear Creek  8019  1900      7082.0\n",
       "59        Teller  8119  1900     29002.0\n",
       "193         Baca  8009  1930     10570.0"
      ]
     },
     "execution_count": 4,
     "metadata": {},
     "output_type": "execute_result"
    }
   ],
   "source": [
    "co_df.sample(5)"
   ]
  },
  {
   "cell_type": "markdown",
   "id": "cfbca597-991f-43af-84bc-54da7467a79d",
   "metadata": {},
   "source": [
    "Follow Walsh’s example to just filter/select census data from 1940 and assign it to a new variable called co_df_1940.\n"
   ]
  },
  {
   "cell_type": "code",
   "execution_count": 6,
   "id": "49d1db32-5216-463e-912c-f047d1292c68",
   "metadata": {},
   "outputs": [
    {
     "data": {
      "text/html": [
       "<div>\n",
       "<style scoped>\n",
       "    .dataframe tbody tr th:only-of-type {\n",
       "        vertical-align: middle;\n",
       "    }\n",
       "\n",
       "    .dataframe tbody tr th {\n",
       "        vertical-align: top;\n",
       "    }\n",
       "\n",
       "    .dataframe thead th {\n",
       "        text-align: right;\n",
       "    }\n",
       "</style>\n",
       "<table border=\"1\" class=\"dataframe\">\n",
       "  <thead>\n",
       "    <tr style=\"text-align: right;\">\n",
       "      <th></th>\n",
       "      <th>county</th>\n",
       "      <th>fips</th>\n",
       "      <th>year</th>\n",
       "      <th>population</th>\n",
       "    </tr>\n",
       "  </thead>\n",
       "  <tbody>\n",
       "    <tr>\n",
       "      <th>252</th>\n",
       "      <td>Adams</td>\n",
       "      <td>8001</td>\n",
       "      <td>1940</td>\n",
       "      <td>22481.0</td>\n",
       "    </tr>\n",
       "    <tr>\n",
       "      <th>253</th>\n",
       "      <td>Alamosa</td>\n",
       "      <td>8003</td>\n",
       "      <td>1940</td>\n",
       "      <td>10484.0</td>\n",
       "    </tr>\n",
       "    <tr>\n",
       "      <th>254</th>\n",
       "      <td>Arapahoe</td>\n",
       "      <td>8005</td>\n",
       "      <td>1940</td>\n",
       "      <td>32150.0</td>\n",
       "    </tr>\n",
       "    <tr>\n",
       "      <th>255</th>\n",
       "      <td>Archuleta</td>\n",
       "      <td>8007</td>\n",
       "      <td>1940</td>\n",
       "      <td>3806.0</td>\n",
       "    </tr>\n",
       "    <tr>\n",
       "      <th>256</th>\n",
       "      <td>Baca</td>\n",
       "      <td>8009</td>\n",
       "      <td>1940</td>\n",
       "      <td>6207.0</td>\n",
       "    </tr>\n",
       "    <tr>\n",
       "      <th>...</th>\n",
       "      <td>...</td>\n",
       "      <td>...</td>\n",
       "      <td>...</td>\n",
       "      <td>...</td>\n",
       "    </tr>\n",
       "    <tr>\n",
       "      <th>310</th>\n",
       "      <td>Summit</td>\n",
       "      <td>8117</td>\n",
       "      <td>1940</td>\n",
       "      <td>1754.0</td>\n",
       "    </tr>\n",
       "    <tr>\n",
       "      <th>311</th>\n",
       "      <td>Teller</td>\n",
       "      <td>8119</td>\n",
       "      <td>1940</td>\n",
       "      <td>6463.0</td>\n",
       "    </tr>\n",
       "    <tr>\n",
       "      <th>312</th>\n",
       "      <td>Washington</td>\n",
       "      <td>8121</td>\n",
       "      <td>1940</td>\n",
       "      <td>8336.0</td>\n",
       "    </tr>\n",
       "    <tr>\n",
       "      <th>313</th>\n",
       "      <td>Weld</td>\n",
       "      <td>8123</td>\n",
       "      <td>1940</td>\n",
       "      <td>63747.0</td>\n",
       "    </tr>\n",
       "    <tr>\n",
       "      <th>314</th>\n",
       "      <td>Yuma</td>\n",
       "      <td>8125</td>\n",
       "      <td>1940</td>\n",
       "      <td>12102.0</td>\n",
       "    </tr>\n",
       "  </tbody>\n",
       "</table>\n",
       "<p>63 rows × 4 columns</p>\n",
       "</div>"
      ],
      "text/plain": [
       "         county  fips  year  population\n",
       "252       Adams  8001  1940     22481.0\n",
       "253     Alamosa  8003  1940     10484.0\n",
       "254    Arapahoe  8005  1940     32150.0\n",
       "255   Archuleta  8007  1940      3806.0\n",
       "256        Baca  8009  1940      6207.0\n",
       "..          ...   ...   ...         ...\n",
       "310      Summit  8117  1940      1754.0\n",
       "311      Teller  8119  1940      6463.0\n",
       "312  Washington  8121  1940      8336.0\n",
       "313        Weld  8123  1940     63747.0\n",
       "314        Yuma  8125  1940     12102.0\n",
       "\n",
       "[63 rows x 4 columns]"
      ]
     },
     "execution_count": 6,
     "metadata": {},
     "output_type": "execute_result"
    }
   ],
   "source": [
    "filter_1940 = co_df['year']==1940\n",
    "co_df_1940=co_df[filter_1940]\n",
    "co_df_1940"
   ]
  },
  {
   "cell_type": "markdown",
   "id": "2af23daa-60c4-4aee-9941-30d8c5a12776",
   "metadata": {},
   "source": [
    "Apply the max() function to the population column of co_df_1940 to find the largest number people counted in a single Colorado county in the 1940 census.\n",
    "What county had the largest number of people in 1940? Hint: use filter/select in conjunction with your steps from the previous step (max() and the population column).\n",
    "Use filter/select to create a new dataframe named denver_df that only has records from Denver.\n",
    "Use denver_df.plot('year', 'population') to create a lin\n"
   ]
  },
  {
   "cell_type": "code",
   "execution_count": 7,
   "id": "1f282705-205c-4dbc-8320-62436f9db861",
   "metadata": {},
   "outputs": [
    {
     "data": {
      "text/plain": [
       "322412.0"
      ]
     },
     "execution_count": 7,
     "metadata": {},
     "output_type": "execute_result"
    }
   ],
   "source": [
    "max(co_df_1940['population'])\n"
   ]
  },
  {
   "cell_type": "code",
   "execution_count": 8,
   "id": "346b1b6d-d17d-4098-a407-f46ad80f3c70",
   "metadata": {},
   "outputs": [
    {
     "data": {
      "text/html": [
       "<div>\n",
       "<style scoped>\n",
       "    .dataframe tbody tr th:only-of-type {\n",
       "        vertical-align: middle;\n",
       "    }\n",
       "\n",
       "    .dataframe tbody tr th {\n",
       "        vertical-align: top;\n",
       "    }\n",
       "\n",
       "    .dataframe thead th {\n",
       "        text-align: right;\n",
       "    }\n",
       "</style>\n",
       "<table border=\"1\" class=\"dataframe\">\n",
       "  <thead>\n",
       "    <tr style=\"text-align: right;\">\n",
       "      <th></th>\n",
       "      <th>fips</th>\n",
       "      <th>year</th>\n",
       "      <th>population</th>\n",
       "    </tr>\n",
       "  </thead>\n",
       "  <tbody>\n",
       "    <tr>\n",
       "      <th>count</th>\n",
       "      <td>63.000000</td>\n",
       "      <td>63.0</td>\n",
       "      <td>63.000000</td>\n",
       "    </tr>\n",
       "    <tr>\n",
       "      <th>mean</th>\n",
       "      <td>8063.000000</td>\n",
       "      <td>1940.0</td>\n",
       "      <td>17830.095238</td>\n",
       "    </tr>\n",
       "    <tr>\n",
       "      <th>std</th>\n",
       "      <td>36.660606</td>\n",
       "      <td>0.0</td>\n",
       "      <td>41635.562582</td>\n",
       "    </tr>\n",
       "    <tr>\n",
       "      <th>min</th>\n",
       "      <td>8001.000000</td>\n",
       "      <td>1940.0</td>\n",
       "      <td>349.000000</td>\n",
       "    </tr>\n",
       "    <tr>\n",
       "      <th>25%</th>\n",
       "      <td>8032.000000</td>\n",
       "      <td>1940.0</td>\n",
       "      <td>3625.500000</td>\n",
       "    </tr>\n",
       "    <tr>\n",
       "      <th>50%</th>\n",
       "      <td>8063.000000</td>\n",
       "      <td>1940.0</td>\n",
       "      <td>7512.000000</td>\n",
       "    </tr>\n",
       "    <tr>\n",
       "      <th>75%</th>\n",
       "      <td>8094.000000</td>\n",
       "      <td>1940.0</td>\n",
       "      <td>16279.000000</td>\n",
       "    </tr>\n",
       "    <tr>\n",
       "      <th>max</th>\n",
       "      <td>8125.000000</td>\n",
       "      <td>1940.0</td>\n",
       "      <td>322412.000000</td>\n",
       "    </tr>\n",
       "  </tbody>\n",
       "</table>\n",
       "</div>"
      ],
      "text/plain": [
       "              fips    year     population\n",
       "count    63.000000    63.0      63.000000\n",
       "mean   8063.000000  1940.0   17830.095238\n",
       "std      36.660606     0.0   41635.562582\n",
       "min    8001.000000  1940.0     349.000000\n",
       "25%    8032.000000  1940.0    3625.500000\n",
       "50%    8063.000000  1940.0    7512.000000\n",
       "75%    8094.000000  1940.0   16279.000000\n",
       "max    8125.000000  1940.0  322412.000000"
      ]
     },
     "execution_count": 8,
     "metadata": {},
     "output_type": "execute_result"
    }
   ],
   "source": [
    "# alternative way to find the max:\n",
    "co_df_1940.describe()"
   ]
  },
  {
   "cell_type": "markdown",
   "id": "8e431e3c-1541-4c7b-a619-b4da08846c89",
   "metadata": {},
   "source": [
    "What county had the largest number of people in 1940? Hint: use filter/select in conjunction with your steps from the previous step (max() and the population column).\n"
   ]
  },
  {
   "cell_type": "code",
   "execution_count": 10,
   "id": "3484576c-500a-4571-bf09-1c651828c660",
   "metadata": {},
   "outputs": [
    {
     "name": "stdout",
     "output_type": "stream",
     "text": [
      "322412.0\n"
     ]
    },
    {
     "data": {
      "text/html": [
       "<div>\n",
       "<style scoped>\n",
       "    .dataframe tbody tr th:only-of-type {\n",
       "        vertical-align: middle;\n",
       "    }\n",
       "\n",
       "    .dataframe tbody tr th {\n",
       "        vertical-align: top;\n",
       "    }\n",
       "\n",
       "    .dataframe thead th {\n",
       "        text-align: right;\n",
       "    }\n",
       "</style>\n",
       "<table border=\"1\" class=\"dataframe\">\n",
       "  <thead>\n",
       "    <tr style=\"text-align: right;\">\n",
       "      <th></th>\n",
       "      <th>county</th>\n",
       "      <th>fips</th>\n",
       "      <th>year</th>\n",
       "      <th>population</th>\n",
       "    </tr>\n",
       "  </thead>\n",
       "  <tbody>\n",
       "    <tr>\n",
       "      <th>267</th>\n",
       "      <td>Denver</td>\n",
       "      <td>8031</td>\n",
       "      <td>1940</td>\n",
       "      <td>322412.0</td>\n",
       "    </tr>\n",
       "  </tbody>\n",
       "</table>\n",
       "</div>"
      ],
      "text/plain": [
       "     county  fips  year  population\n",
       "267  Denver  8031  1940    322412.0"
      ]
     },
     "execution_count": 10,
     "metadata": {},
     "output_type": "execute_result"
    }
   ],
   "source": [
    "max_number = max(co_df_1940['population'])\n",
    "print(max_number)\n",
    "co_df_1940_pop=co_df_1940[co_df_1940['population']==max_number]\n",
    "co_df_1940_pop"
   ]
  },
  {
   "cell_type": "markdown",
   "id": "4864a5e1-237e-434b-afbd-a4043efc17a4",
   "metadata": {},
   "source": [
    "Use filter/select to create a new dataframe named denver_df that only has records from Denver.\n"
   ]
  },
  {
   "cell_type": "code",
   "execution_count": 12,
   "id": "d48b91f4-e2ca-4d8c-bcdd-ae4d2d120525",
   "metadata": {},
   "outputs": [
    {
     "data": {
      "text/html": [
       "<div>\n",
       "<style scoped>\n",
       "    .dataframe tbody tr th:only-of-type {\n",
       "        vertical-align: middle;\n",
       "    }\n",
       "\n",
       "    .dataframe tbody tr th {\n",
       "        vertical-align: top;\n",
       "    }\n",
       "\n",
       "    .dataframe thead th {\n",
       "        text-align: right;\n",
       "    }\n",
       "</style>\n",
       "<table border=\"1\" class=\"dataframe\">\n",
       "  <thead>\n",
       "    <tr style=\"text-align: right;\">\n",
       "      <th></th>\n",
       "      <th>county</th>\n",
       "      <th>fips</th>\n",
       "      <th>year</th>\n",
       "      <th>population</th>\n",
       "    </tr>\n",
       "  </thead>\n",
       "  <tbody>\n",
       "    <tr>\n",
       "      <th>15</th>\n",
       "      <td>Denver</td>\n",
       "      <td>8031</td>\n",
       "      <td>1900</td>\n",
       "      <td>NaN</td>\n",
       "    </tr>\n",
       "    <tr>\n",
       "      <th>78</th>\n",
       "      <td>Denver</td>\n",
       "      <td>8031</td>\n",
       "      <td>1910</td>\n",
       "      <td>213381.0</td>\n",
       "    </tr>\n",
       "    <tr>\n",
       "      <th>141</th>\n",
       "      <td>Denver</td>\n",
       "      <td>8031</td>\n",
       "      <td>1920</td>\n",
       "      <td>256491.0</td>\n",
       "    </tr>\n",
       "    <tr>\n",
       "      <th>204</th>\n",
       "      <td>Denver</td>\n",
       "      <td>8031</td>\n",
       "      <td>1930</td>\n",
       "      <td>287861.0</td>\n",
       "    </tr>\n",
       "    <tr>\n",
       "      <th>267</th>\n",
       "      <td>Denver</td>\n",
       "      <td>8031</td>\n",
       "      <td>1940</td>\n",
       "      <td>322412.0</td>\n",
       "    </tr>\n",
       "    <tr>\n",
       "      <th>330</th>\n",
       "      <td>Denver</td>\n",
       "      <td>8031</td>\n",
       "      <td>1950</td>\n",
       "      <td>415786.0</td>\n",
       "    </tr>\n",
       "  </tbody>\n",
       "</table>\n",
       "</div>"
      ],
      "text/plain": [
       "     county  fips  year  population\n",
       "15   Denver  8031  1900         NaN\n",
       "78   Denver  8031  1910    213381.0\n",
       "141  Denver  8031  1920    256491.0\n",
       "204  Denver  8031  1930    287861.0\n",
       "267  Denver  8031  1940    322412.0\n",
       "330  Denver  8031  1950    415786.0"
      ]
     },
     "execution_count": 12,
     "metadata": {},
     "output_type": "execute_result"
    }
   ],
   "source": [
    "denver_filter=co_df['county']=='Denver'\n",
    "denver_df=co_df[denver_filter]\n",
    "denver_df"
   ]
  },
  {
   "cell_type": "markdown",
   "id": "5d50546f-57ad-4625-a21a-f6615078cd10",
   "metadata": {},
   "source": [
    "Use denver_df.plot('year', 'population') to create a line graph of Denver’s population growth between 1900-1950.\n"
   ]
  },
  {
   "cell_type": "code",
   "execution_count": 15,
   "id": "281a9861-cfc2-4dc2-be70-64ffaa9cdf07",
   "metadata": {},
   "outputs": [
    {
     "data": {
      "text/plain": [
       "<Axes: title={'center': 'Denver Population Growth (1900-1950)'}, xlabel='year'>"
      ]
     },
     "execution_count": 15,
     "metadata": {},
     "output_type": "execute_result"
    },
    {
     "data": {
      "image/png": "[encoded data removed]",
      "text/plain": [
       "<Figure size 640x480 with 1 Axes>"
      ]
     },
     "metadata": {},
     "output_type": "display_data"
    }
   ],
   "source": [
    "denver_df.plot('year', 'population', title=\"Denver Population Growth (1900-1950)\")"
   ]
  },
  {
   "cell_type": "markdown",
   "id": "669e53d2-fc93-434b-8718-35d0d903bafc",
   "metadata": {},
   "source": [
    "Save your line graph for Denver's population growth as a `.png` file\n"
   ]
  },
  {
   "cell_type": "code",
   "execution_count": 16,
   "id": "60848905",
   "metadata": {},
   "outputs": [
    {
     "data": {
      "image/png": "[encoded data removed]",
      "text/plain": [
       "<Figure size 640x480 with 1 Axes>"
      ]
     },
     "metadata": {},
     "output_type": "display_data"
    }
   ],
   "source": [
    "# Create the plot and save the reference to the axis\n",
    "ax = denver_df.plot('year', 'population', title=\"Denver Population Growth (1900-1950)\")\n",
    "# Save the figure as a PNG file\n",
    "ax.figure.savefig('denver_population_growth.png')"
   ]
  },
  {
   "cell_type": "markdown",
   "id": "b76ea633",
   "metadata": {},
   "source": [
    "Export a new CSV file that just contains records for Denver (denver_df) - see Walsh’s example.\n"
   ]
  },
  {
   "cell_type": "code",
   "execution_count": 17,
   "id": "f848b624",
   "metadata": {},
   "outputs": [],
   "source": [
    "# Export the Denver dataframe to a CSV file\n",
    "denver_df.to_csv(\"denver_census_data.csv\", index=False)"
   ]
  }
 ],
 "metadata": {
  "kernelspec": {
   "display_name": "base",
   "language": "python",
   "name": "python3"
  },
  "language_info": {
   "codemirror_mode": {
    "name": "ipython",
    "version": 3
   },
   "file_extension": ".py",
   "mimetype": "text/x-python",
   "name": "python",
   "nbconvert_exporter": "python",
   "pygments_lexer": "ipython3",
   "version": "3.12.7"
  }
 },
 "nbformat": 4,
 "nbformat_minor": 5
}
