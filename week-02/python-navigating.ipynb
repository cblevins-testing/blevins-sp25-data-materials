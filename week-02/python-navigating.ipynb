{
 "cells": [
  {
   "cell_type": "markdown",
   "id": "08d8c97c-c75c-4b2d-8551-a76220641950",
   "metadata": {},
   "source": [
    "## Step 1\n",
    "Adding new variables about Lucy Parsons"
   ]
  },
  {
   "cell_type": "code",
   "execution_count": 17,
   "id": "64111050-fc35-43c7-9f1d-3849c48702cd",
   "metadata": {},
   "outputs": [],
   "source": [
    "dummy_name=\"Cameron\""
   ]
  },
  {
   "cell_type": "code",
   "execution_count": 19,
   "id": "c4fddd5e-1d54-46ee-bdba-195cf4372dc3",
   "metadata": {},
   "outputs": [
    {
     "name": "stdout",
     "output_type": "stream",
     "text": [
      "Cameron\n"
     ]
    }
   ],
   "source": [
    "print(dummy_name)"
   ]
  },
  {
   "cell_type": "code",
   "execution_count": 9,
   "id": "c7125753-427b-4053-870c-5e7d858e3ea2",
   "metadata": {},
   "outputs": [
    {
     "name": "stdout",
     "output_type": "stream",
     "text": [
      "Lucy\n"
     ]
    }
   ],
   "source": [
    "first_name=\"Lucy\"\n",
    "last_name=\"Parsons\"\n",
    "birth_year=1851\n",
    "birth_state=\"Texas/Virgnia\"\n",
    "print(first_name)"
   ]
  },
  {
   "cell_type": "code",
   "execution_count": 11,
   "id": "a171f9dc-c3a8-4fca-8736-715eceaffd22",
   "metadata": {},
   "outputs": [
    {
     "data": {
      "text/plain": [
       "int"
      ]
     },
     "execution_count": 11,
     "metadata": {},
     "output_type": "execute_result"
    }
   ],
   "source": [
    "type(birth_year)"
   ]
  },
  {
   "cell_type": "markdown",
   "id": "5304e5a2-ed85-4836-b4c4-960130ed62fd",
   "metadata": {},
   "source": [
    "## Step 2\n",
    "Creating a last name variable\n",
    "Make a new variable full_name. Assign it a single string value based on the variables you created above. Then add a print statement that writes out a full sentence using full_name."
   ]
  },
  {
   "cell_type": "code",
   "execution_count": 35,
   "id": "6be62a8d-fd4a-4823-99fa-01e96281c965",
   "metadata": {},
   "outputs": [
    {
     "name": "stdout",
     "output_type": "stream",
     "text": [
      "Lucy Parsons\n"
     ]
    }
   ],
   "source": [
    "full_name=\"Lucy Parsons\"\n",
    "full_name=first_name+\" \"+last_name\n",
    "print(full_name)"
   ]
  },
  {
   "cell_type": "markdown",
   "id": "f0019be0-a665-443b-ac13-76749de97f43",
   "metadata": {},
   "source": [
    "## Step 3\n",
    "Calculating Lucy parson's age"
   ]
  },
  {
   "cell_type": "code",
   "execution_count": 44,
   "id": "7413f5e8-66e1-4697-aca9-8f9af16f77d5",
   "metadata": {},
   "outputs": [
    {
     "name": "stdout",
     "output_type": "stream",
     "text": [
      "35\n"
     ]
    }
   ],
   "source": [
    "haymarket_year = 1886\n",
    "haymarket_age=haymarket_year-birth_year\n",
    "print(haymarket_age)"
   ]
  },
  {
   "cell_type": "markdown",
   "id": "d5c683d2-9f1e-4bb9-8308-7cb3bb6f25de",
   "metadata": {},
   "source": [
    "### Step 4\n",
    "Lucy Parsons’s contemporary and rival, Emma Goldman, also has a Wikipedia page. Create variables and assign each one the number of footnotes for each of their Wikipedia pages (you can do this manually). Create another variable calculating the difference between them. Then write a print statement that compares these two numbers in some way."
   ]
  },
  {
   "cell_type": "code",
   "execution_count": 49,
   "id": "4db79358-98ef-449b-8f49-82992bd554bf",
   "metadata": {},
   "outputs": [
    {
     "name": "stdout",
     "output_type": "stream",
     "text": [
      "180\n"
     ]
    }
   ],
   "source": [
    "emma_citations=216\n",
    "lucy_citations=36\n",
    "citation_difference=emma_citations-lucy_citations\n",
    "print(citation_difference)"
   ]
  },
  {
   "cell_type": "code",
   "execution_count": 54,
   "id": "af4deffb-336f-4d07-b1f1-975c8bc6a6b0",
   "metadata": {},
   "outputs": [
    {
     "name": "stdout",
     "output_type": "stream",
     "text": [
      "There are 180 more citations on Emma Goldman's page than Lucy Parsons!\n"
     ]
    }
   ],
   "source": [
    "print(f\"There are {citation_difference} more citations on Emma Goldman's page than Lucy Parsons!\")"
   ]
  },
  {
   "cell_type": "code",
   "execution_count": null,
   "id": "c240535a-c288-4848-881e-6cb6b049a96e",
   "metadata": {},
   "outputs": [],
   "source": []
  }
 ],
 "metadata": {
  "kernelspec": {
   "display_name": "Python [conda env:base]",
   "language": "python",
   "name": "conda-base-py"
  },
  "language_info": {
   "codemirror_mode": {
    "name": "ipython",
    "version": 3
   },
   "file_extension": ".py",
   "mimetype": "text/x-python",
   "name": "python",
   "nbconvert_exporter": "python",
   "pygments_lexer": "ipython3",
   "version": "3.9.7"
  }
 },
 "nbformat": 4,
 "nbformat_minor": 5
}
