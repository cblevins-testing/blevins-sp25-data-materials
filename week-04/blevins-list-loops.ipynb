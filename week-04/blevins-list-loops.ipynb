{
 "cells": [
  {
   "cell_type": "markdown",
   "id": "1df6c3eb-9dfb-4465-861e-10a8b18bb66b",
   "metadata": {},
   "source": [
    "Getting the data"
   ]
  },
  {
   "cell_type": "code",
   "execution_count": 2,
   "id": "9f17ec80-1ab4-4ca8-bf76-d3a754a8190c",
   "metadata": {},
   "outputs": [],
   "source": [
    "ages = [45, 23, 16, 34, 64, 28, 42, 31, 27, 38, 17, 52, 29, 44, 33, 15, 61, 36, 18, 41]\n",
    "\n",
    "occupations = ['farmer', 'servant', 'laborer', 'merchant', 'farmer', 'servant', 'teacher', 'farmer', 'laborer', 'merchant', 'servant', 'farmer', 'laborer', 'blacksmith', 'carpenter', 'servant', 'farmer', 'weaver', 'servant', 'carpenter']\n",
    "\n",
    "birth_places = ['Ireland', 'Ireland', 'New York', 'England', 'Ireland', 'Germany', 'New York', 'Ireland', 'Ireland', 'Scotland', 'Ireland', 'England', 'Ireland', 'Wales', 'Ireland', 'Ireland', 'Scotland', 'Ireland', 'Germany', 'Ireland']\n"
   ]
  },
  {
   "cell_type": "code",
   "execution_count": 10,
   "id": "968ec682-6a32-4c8e-9482-e20c0eb8f751",
   "metadata": {},
   "outputs": [
    {
     "data": {
      "text/plain": [
       "['Ireland',\n",
       " 'Ireland',\n",
       " 'New York',\n",
       " 'England',\n",
       " 'Ireland',\n",
       " 'Germany',\n",
       " 'New York',\n",
       " 'Ireland',\n",
       " 'Ireland',\n",
       " 'Scotland',\n",
       " 'Ireland',\n",
       " 'England',\n",
       " 'Ireland',\n",
       " 'Wales',\n",
       " 'Ireland',\n",
       " 'Ireland',\n",
       " 'Scotland',\n",
       " 'Ireland',\n",
       " 'Germany',\n",
       " 'Ireland']"
      ]
     },
     "execution_count": 10,
     "metadata": {},
     "output_type": "execute_result"
    }
   ],
   "source": [
    "birth_places"
   ]
  },
  {
   "cell_type": "markdown",
   "id": "80a890a9-b0cc-4fe2-a01c-f65059dcc2d6",
   "metadata": {},
   "source": [
    "Exploring contents of lists"
   ]
  },
  {
   "cell_type": "code",
   "execution_count": 17,
   "id": "8ffd43f1-39c2-4041-823a-97cff92732d2",
   "metadata": {},
   "outputs": [
    {
     "name": "stdout",
     "output_type": "stream",
     "text": [
      "The length of the ages list is 20\n"
     ]
    }
   ],
   "source": [
    "print(f\"The length of the ages list is {len(ages)}\")"
   ]
  },
  {
   "cell_type": "code",
   "execution_count": 19,
   "id": "b425d2f6-6f96-4731-b922-0c83eb18b769",
   "metadata": {},
   "outputs": [
    {
     "data": {
      "text/plain": [
       "['farmer', 'servant', 'laborer', 'merchant', 'farmer']"
      ]
     },
     "execution_count": 19,
     "metadata": {},
     "output_type": "execute_result"
    }
   ],
   "source": [
    "occupations[0:5]"
   ]
  },
  {
   "cell_type": "code",
   "execution_count": 21,
   "id": "6e31291d-9b09-40f4-8909-36f3d6df3d64",
   "metadata": {},
   "outputs": [
    {
     "data": {
      "text/plain": [
       "Counter({'farmer': 5,\n",
       "         'servant': 5,\n",
       "         'laborer': 3,\n",
       "         'merchant': 2,\n",
       "         'teacher': 1,\n",
       "         'blacksmith': 1,\n",
       "         'carpenter': 2,\n",
       "         'weaver': 1})"
      ]
     },
     "execution_count": 21,
     "metadata": {},
     "output_type": "execute_result"
    }
   ],
   "source": [
    "from collections import Counter\n",
    "Counter(occupations)"
   ]
  },
  {
   "cell_type": "code",
   "execution_count": 27,
   "id": "a5e7a14b-d7e6-4bde-b403-b591218abc37",
   "metadata": {},
   "outputs": [
    {
     "data": {
      "text/plain": [
       "Counter({'Ireland': 11,\n",
       "         'New York': 2,\n",
       "         'England': 2,\n",
       "         'Germany': 2,\n",
       "         'Scotland': 2,\n",
       "         'Wales': 1})"
      ]
     },
     "execution_count": 27,
     "metadata": {},
     "output_type": "execute_result"
    }
   ],
   "source": [
    "Counter(birth_places)"
   ]
  },
  {
   "cell_type": "code",
   "execution_count": 29,
   "id": "e581b085-d346-4bba-8d79-2ef8881d8e00",
   "metadata": {},
   "outputs": [
    {
     "name": "stdout",
     "output_type": "stream",
     "text": [
      "Person #0: farmer\n",
      "Person #1: servant\n",
      "Person #2: laborer\n",
      "Person #3: merchant\n",
      "Person #4: farmer\n",
      "Person #5: servant\n",
      "Person #6: teacher\n",
      "Person #7: farmer\n",
      "Person #8: laborer\n",
      "Person #9: merchant\n",
      "Person #10: servant\n",
      "Person #11: farmer\n",
      "Person #12: laborer\n",
      "Person #13: blacksmith\n",
      "Person #14: carpenter\n",
      "Person #15: servant\n",
      "Person #16: farmer\n",
      "Person #17: weaver\n",
      "Person #18: servant\n",
      "Person #19: carpenter\n"
     ]
    }
   ],
   "source": [
    "for number, occupation in enumerate(occupations):\n",
    "    print(f\"Person #{number}: {occupation}\")"
   ]
  },
  {
   "cell_type": "code",
   "execution_count": 37,
   "id": "d0d48afb-2892-48da-a63a-6c094412fcce",
   "metadata": {},
   "outputs": [
    {
     "name": "stdout",
     "output_type": "stream",
     "text": [
      "Person #0: 45\n",
      "Person #1: 23\n",
      "Person #2: 16\n",
      "Person #3: 34\n",
      "Person #4: 64\n",
      "Person #5: 28\n",
      "Person #6: 42\n",
      "Person #7: 31\n",
      "Person #8: 27\n",
      "Person #9: 38\n",
      "Person #10: 17\n",
      "Person #11: 52\n",
      "Person #12: 29\n",
      "Person #13: 44\n",
      "Person #14: 33\n",
      "Person #15: 15\n",
      "Person #16: 61\n",
      "Person #17: 36\n",
      "Person #18: 18\n",
      "Person #19: 41\n"
     ]
    }
   ],
   "source": [
    "for number, age in enumerate(ages):\n",
    "    print(f\"Person #{number}: {age}\")"
   ]
  },
  {
   "cell_type": "markdown",
   "id": "72a75ee5-2e48-4fab-8247-c617fe7ac5cc",
   "metadata": {},
   "source": [
    "Creating a new list"
   ]
  },
  {
   "cell_type": "code",
   "execution_count": 40,
   "id": "2eec5ab7-47e9-40e4-b79e-784ed9f260f2",
   "metadata": {},
   "outputs": [
    {
     "name": "stdout",
     "output_type": "stream",
     "text": [
      "Number of skilled laborers: 4\n"
     ]
    }
   ],
   "source": [
    "skilled_laborers = []\n",
    "for occupation in occupations:\n",
    "    if occupation == 'blacksmith' or occupation == 'carpenter' or occupation == 'weaver':\n",
    "        skilled_laborers.append(occupation)\n",
    "print(f\"Number of skilled laborers: {len(skilled_laborers)}\")"
   ]
  },
  {
   "cell_type": "code",
   "execution_count": 42,
   "id": "50b40037-8594-4e49-bc6b-4d1c15940156",
   "metadata": {},
   "outputs": [
    {
     "name": "stdout",
     "output_type": "stream",
     "text": [
      "['blacksmith', 'carpenter', 'weaver', 'carpenter']\n"
     ]
    }
   ],
   "source": [
    "print(skilled_laborers)"
   ]
  },
  {
   "cell_type": "code",
   "execution_count": 44,
   "id": "9933f09e-dead-4c85-b31e-671157999846",
   "metadata": {},
   "outputs": [
    {
     "name": "stdout",
     "output_type": "stream",
     "text": [
      "Number of people in UK: 14\n"
     ]
    }
   ],
   "source": [
    "united_kingdom = []\n",
    "for place in birth_places:\n",
    "    if place == 'England' or place == 'Wales' or place == 'Ireland':\n",
    "        united_kingdom.append(place)\n",
    "print(f\"Number of people in UK: {len(united_kingdom)}\")"
   ]
  },
  {
   "cell_type": "code",
   "execution_count": 46,
   "id": "6b633658-7a29-4a62-a456-9c5c047b3d50",
   "metadata": {},
   "outputs": [
    {
     "data": {
      "text/plain": [
       "['Ireland',\n",
       " 'Ireland',\n",
       " 'England',\n",
       " 'Ireland',\n",
       " 'Ireland',\n",
       " 'Ireland',\n",
       " 'Ireland',\n",
       " 'England',\n",
       " 'Ireland',\n",
       " 'Wales',\n",
       " 'Ireland',\n",
       " 'Ireland',\n",
       " 'Ireland',\n",
       " 'Ireland']"
      ]
     },
     "execution_count": 46,
     "metadata": {},
     "output_type": "execute_result"
    }
   ],
   "source": [
    "united_kingdom"
   ]
  },
  {
   "cell_type": "code",
   "execution_count": 50,
   "id": "7dbad096-469b-43c8-87e4-a4528f3bbb67",
   "metadata": {},
   "outputs": [
    {
     "name": "stdout",
     "output_type": "stream",
     "text": [
      "[23, 16, 28, 27, 17, 29, 15, 18]\n"
     ]
    }
   ],
   "source": [
    "youths = []\n",
    "for person in ages:\n",
    "    if person < 30:\n",
    "        youths.append(person)\n",
    "print(youths)"
   ]
  },
  {
   "cell_type": "code",
   "execution_count": null,
   "id": "90b21d24-caa6-4dc4-810c-bb373a5f7b64",
   "metadata": {},
   "outputs": [],
   "source": []
  }
 ],
 "metadata": {
  "kernelspec": {
   "display_name": "Python [conda env:base]",
   "language": "python",
   "name": "conda-base-py"
  },
  "language_info": {
   "codemirror_mode": {
    "name": "ipython",
    "version": 3
   },
   "file_extension": ".py",
   "mimetype": "text/x-python",
   "name": "python",
   "nbconvert_exporter": "python",
   "pygments_lexer": "ipython3",
   "version": "3.9.7"
  }
 },
 "nbformat": 4,
 "nbformat_minor": 5
}
