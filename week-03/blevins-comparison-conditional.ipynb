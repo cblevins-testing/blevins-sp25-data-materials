{
 "cells": [
  {
   "cell_type": "markdown",
   "id": "72890d63-ef33-4acc-bfd5-63c1c6c2f59f",
   "metadata": {},
   "source": [
    "Part 1: Creating Variables"
   ]
  },
  {
   "cell_type": "code",
   "execution_count": 22,
   "id": "909eb079-6dcb-4cc2-ba8e-7ac5804de815",
   "metadata": {},
   "outputs": [],
   "source": [
    "# Boston population data\n",
    "boston_1850 = 136881\n",
    "boston_1860 = 177840\n",
    "#boston_1870 = 250526\n",
    "boston_1870 = 10\n",
    "\n",
    "\n",
    "# New York population data\n",
    "ny_1850 = 515547\n",
    "ny_1860 = 813669\n",
    "ny_1870 = 942292\n",
    "\n",
    "# Philadelphia population data\n",
    "phil_1850 = 121376\n",
    "#phil_1860 = 565529\n",
    "phil_1860= 813669\n",
    "phil_1870 = 674022\n"
   ]
  },
  {
   "cell_type": "code",
   "execution_count": 6,
   "id": "dc43a517-7b23-443a-ae6c-9814783b14ca",
   "metadata": {},
   "outputs": [
    {
     "name": "stdout",
     "output_type": "stream",
     "text": [
      "113645\n"
     ]
    }
   ],
   "source": [
    "boston_population_surpassed=boston_1870-boston_1850\n",
    "print(boston_population_surpassed)"
   ]
  },
  {
   "cell_type": "code",
   "execution_count": 14,
   "id": "5b376632-e4bf-4037-a165-35aee39651f4",
   "metadata": {},
   "outputs": [
    {
     "name": "stdout",
     "output_type": "stream",
     "text": [
      "No!\n"
     ]
    }
   ],
   "source": [
    "if boston_1870 > 200000:\n",
    "    print(\"Yes!\")\n",
    "else: \n",
    "    print(\"No!\")"
   ]
  },
  {
   "cell_type": "code",
   "execution_count": 24,
   "id": "00076345-751c-4432-9c58-6d7bfe28c7c3",
   "metadata": {},
   "outputs": [
    {
     "name": "stdout",
     "output_type": "stream",
     "text": [
      "Philadelphia was larger in 1860\n"
     ]
    }
   ],
   "source": [
    "if ny_1860 > phil_1860:\n",
    "    print(\"New York is larger in 1860\")\n",
    "else:\n",
    "    print(\"Philadelphia was larger in 1860\")"
   ]
  },
  {
   "cell_type": "code",
   "execution_count": null,
   "id": "09202121-a0cd-4617-99a7-8dcc8f1a6d52",
   "metadata": {},
   "outputs": [],
   "source": []
  }
 ],
 "metadata": {
  "kernelspec": {
   "display_name": "Python [conda env:base]",
   "language": "python",
   "name": "conda-base-py"
  },
  "language_info": {
   "codemirror_mode": {
    "name": "ipython",
    "version": 3
   },
   "file_extension": ".py",
   "mimetype": "text/x-python",
   "name": "python",
   "nbconvert_exporter": "python",
   "pygments_lexer": "ipython3",
   "version": "3.9.7"
  }
 },
 "nbformat": 4,
 "nbformat_minor": 5
}
