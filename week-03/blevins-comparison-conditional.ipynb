{
 "cells": [
  {
   "cell_type": "markdown",
   "id": "72890d63-ef33-4acc-bfd5-63c1c6c2f59f",
   "metadata": {},
   "source": [
    "Part 1: Creating Variables"
   ]
  },
  {
   "cell_type": "code",
   "execution_count": 6,
   "id": "909eb079-6dcb-4cc2-ba8e-7ac5804de815",
   "metadata": {},
   "outputs": [],
   "source": [
    "# Boston population data\n",
    "boston_1850 = 136881\n",
    "boston_1860 = 177840\n",
    "boston_1870 = 250526\n",
    "\n",
    "\n",
    "# New York population data\n",
    "ny_1850 = 515547\n",
    "ny_1860 = 813669\n",
    "ny_1870 = 942292\n",
    "\n",
    "# Philadelphia population data\n",
    "phil_1850 = 121376\n",
    "#phil_1860 = 565529\n",
    "phil_1860= 813669\n",
    "phil_1870 = 674022\n"
   ]
  },
  {
   "cell_type": "code",
   "execution_count": 8,
   "id": "dc43a517-7b23-443a-ae6c-9814783b14ca",
   "metadata": {},
   "outputs": [
    {
     "name": "stdout",
     "output_type": "stream",
     "text": [
      "113645\n"
     ]
    }
   ],
   "source": [
    "boston_population_surpassed=boston_1870-boston_1850\n",
    "print(boston_population_surpassed)"
   ]
  },
  {
   "cell_type": "code",
   "execution_count": 10,
   "id": "5b376632-e4bf-4037-a165-35aee39651f4",
   "metadata": {},
   "outputs": [
    {
     "name": "stdout",
     "output_type": "stream",
     "text": [
      "Yes!\n"
     ]
    }
   ],
   "source": [
    "if boston_1870 > 200000:\n",
    "    print(\"Yes!\")\n",
    "else: \n",
    "    print(\"No!\")"
   ]
  },
  {
   "cell_type": "code",
   "execution_count": 12,
   "id": "00076345-751c-4432-9c58-6d7bfe28c7c3",
   "metadata": {},
   "outputs": [
    {
     "name": "stdout",
     "output_type": "stream",
     "text": [
      "Philadelphia was larger in 1860\n"
     ]
    }
   ],
   "source": [
    "if ny_1860 > phil_1860:\n",
    "    print(\"New York is larger in 1860\")\n",
    "else:\n",
    "    print(\"Philadelphia was larger in 1860\")"
   ]
  },
  {
   "cell_type": "markdown",
   "id": "60305996-3a94-49ec-9d7b-19619b0dd77e",
   "metadata": {},
   "source": [
    "Population Growth"
   ]
  },
  {
   "cell_type": "code",
   "execution_count": 27,
   "id": "b47f3e23-23a5-4088-9f0f-790ca2316e4b",
   "metadata": {},
   "outputs": [
    {
     "name": "stdout",
     "output_type": "stream",
     "text": [
      "113645\n"
     ]
    }
   ],
   "source": [
    "# Calculate population growth\n",
    "boston_growth = boston_1870 - boston_1850\n",
    "ny_growth = ny_1870 - ny_1850\n",
    "phil_growth = phil_1870 - phil_1850\n",
    "print(boston_growth)"
   ]
  },
  {
   "cell_type": "code",
   "execution_count": 21,
   "id": "fb6d10cd-ab06-4cda-b78f-1aa1151fd63b",
   "metadata": {},
   "outputs": [
    {
     "name": "stdout",
     "output_type": "stream",
     "text": [
      "Philadelphia has highest growth\n"
     ]
    }
   ],
   "source": [
    "if boston_growth > ny_growth and boston_growth > phil_growth:\n",
    "    print(\"Boston highest growth\")\n",
    "elif ny_growth > phil_growth and ny_growth > boston_growth:\n",
    "    print(\"New York highest\")\n",
    "elif phil_growth > ny_growth and phil_growth > boston_growth:\n",
    "    print(\"Philadelphia has highest growth\")"
   ]
  },
  {
   "cell_type": "markdown",
   "id": "6f92bcda-d817-40ac-90dd-0eb8c12e34e7",
   "metadata": {},
   "source": [
    "Write code using and to check if BOTH:\n",
    "- Boston’s 1870 population was over 200,000\n",
    "- AND Boston’s population increased by at least 100,000 from 1850 to 1870"
   ]
  },
  {
   "cell_type": "code",
   "execution_count": 25,
   "id": "4ccdefb5-81f2-4cb8-b895-c63604447270",
   "metadata": {},
   "outputs": [
    {
     "name": "stdout",
     "output_type": "stream",
     "text": [
      "Condition met!\n"
     ]
    }
   ],
   "source": [
    "if boston_1870 > 200000 and (boston_1870-boston_1850)>100000:\n",
    "    print(\"Condition met!\")"
   ]
  },
  {
   "cell_type": "code",
   "execution_count": null,
   "id": "641e3859-9e71-499a-b752-3f355db4c8be",
   "metadata": {},
   "outputs": [],
   "source": []
  }
 ],
 "metadata": {
  "kernelspec": {
   "display_name": "Python [conda env:base]",
   "language": "python",
   "name": "conda-base-py"
  },
  "language_info": {
   "codemirror_mode": {
    "name": "ipython",
    "version": 3
   },
   "file_extension": ".py",
   "mimetype": "text/x-python",
   "name": "python",
   "nbconvert_exporter": "python",
   "pygments_lexer": "ipython3",
   "version": "3.9.7"
  }
 },
 "nbformat": 4,
 "nbformat_minor": 5
}
